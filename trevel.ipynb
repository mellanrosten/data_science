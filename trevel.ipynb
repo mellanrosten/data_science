{
 "cells": [
  {
   "cell_type": "code",
   "execution_count": 26,
   "metadata": {},
   "outputs": [],
   "source": [
    "import pandas"
   ]
  },
  {
   "cell_type": "code",
   "execution_count": 27,
   "metadata": {},
   "outputs": [],
   "source": [
    "trips = pandas.read_excel('trips_data.xlsx')"
   ]
  },
  {
   "cell_type": "code",
   "execution_count": 28,
   "metadata": {},
   "outputs": [
    {
     "data": {
      "text/html": [
       "<div>\n",
       "<style scoped>\n",
       "    .dataframe tbody tr th:only-of-type {\n",
       "        vertical-align: middle;\n",
       "    }\n",
       "\n",
       "    .dataframe tbody tr th {\n",
       "        vertical-align: top;\n",
       "    }\n",
       "\n",
       "    .dataframe thead th {\n",
       "        text-align: right;\n",
       "    }\n",
       "</style>\n",
       "<table border=\"1\" class=\"dataframe\">\n",
       "  <thead>\n",
       "    <tr style=\"text-align: right;\">\n",
       "      <th></th>\n",
       "      <th>Unnamed: 0</th>\n",
       "      <th>salary</th>\n",
       "      <th>city</th>\n",
       "      <th>age</th>\n",
       "      <th>vacation_preference</th>\n",
       "      <th>transport_preference</th>\n",
       "      <th>family_members</th>\n",
       "      <th>target</th>\n",
       "    </tr>\n",
       "  </thead>\n",
       "  <tbody>\n",
       "    <tr>\n",
       "      <th>0</th>\n",
       "      <td>0</td>\n",
       "      <td>196000</td>\n",
       "      <td>Краснодар</td>\n",
       "      <td>25</td>\n",
       "      <td>Шоппинг</td>\n",
       "      <td>Автомобиль</td>\n",
       "      <td>1</td>\n",
       "      <td>New York</td>\n",
       "    </tr>\n",
       "    <tr>\n",
       "      <th>1</th>\n",
       "      <td>1</td>\n",
       "      <td>152000</td>\n",
       "      <td>Екатеринбург</td>\n",
       "      <td>60</td>\n",
       "      <td>Архитектура</td>\n",
       "      <td>Самолет</td>\n",
       "      <td>1</td>\n",
       "      <td>London</td>\n",
       "    </tr>\n",
       "    <tr>\n",
       "      <th>2</th>\n",
       "      <td>2</td>\n",
       "      <td>83000</td>\n",
       "      <td>Томск</td>\n",
       "      <td>49</td>\n",
       "      <td>Архитектура</td>\n",
       "      <td>Автомобиль</td>\n",
       "      <td>2</td>\n",
       "      <td>Sydney</td>\n",
       "    </tr>\n",
       "    <tr>\n",
       "      <th>3</th>\n",
       "      <td>3</td>\n",
       "      <td>161000</td>\n",
       "      <td>Краснодар</td>\n",
       "      <td>41</td>\n",
       "      <td>Шоппинг</td>\n",
       "      <td>Автомобиль</td>\n",
       "      <td>0</td>\n",
       "      <td>New York</td>\n",
       "    </tr>\n",
       "    <tr>\n",
       "      <th>4</th>\n",
       "      <td>4</td>\n",
       "      <td>146000</td>\n",
       "      <td>Краснодар</td>\n",
       "      <td>58</td>\n",
       "      <td>Архитектура</td>\n",
       "      <td>Самолет</td>\n",
       "      <td>1</td>\n",
       "      <td>Sydney</td>\n",
       "    </tr>\n",
       "  </tbody>\n",
       "</table>\n",
       "</div>"
      ],
      "text/plain": [
       "   Unnamed: 0  salary          city  age vacation_preference  \\\n",
       "0           0  196000     Краснодар   25             Шоппинг   \n",
       "1           1  152000  Екатеринбург   60         Архитектура   \n",
       "2           2   83000         Томск   49         Архитектура   \n",
       "3           3  161000     Краснодар   41             Шоппинг   \n",
       "4           4  146000     Краснодар   58         Архитектура   \n",
       "\n",
       "  transport_preference  family_members    target  \n",
       "0           Автомобиль               1  New York  \n",
       "1              Самолет               1    London  \n",
       "2           Автомобиль               2    Sydney  \n",
       "3           Автомобиль               0  New York  \n",
       "4              Самолет               1    Sydney  "
      ]
     },
     "execution_count": 28,
     "metadata": {},
     "output_type": "execute_result"
    }
   ],
   "source": [
    "trips.head()"
   ]
  },
  {
   "cell_type": "code",
   "execution_count": 29,
   "metadata": {},
   "outputs": [
    {
     "data": {
      "text/html": [
       "<div>\n",
       "<style scoped>\n",
       "    .dataframe tbody tr th:only-of-type {\n",
       "        vertical-align: middle;\n",
       "    }\n",
       "\n",
       "    .dataframe tbody tr th {\n",
       "        vertical-align: top;\n",
       "    }\n",
       "\n",
       "    .dataframe thead th {\n",
       "        text-align: right;\n",
       "    }\n",
       "</style>\n",
       "<table border=\"1\" class=\"dataframe\">\n",
       "  <thead>\n",
       "    <tr style=\"text-align: right;\">\n",
       "      <th></th>\n",
       "      <th>Unnamed: 0</th>\n",
       "      <th>salary</th>\n",
       "      <th>age</th>\n",
       "      <th>family_members</th>\n",
       "    </tr>\n",
       "  </thead>\n",
       "  <tbody>\n",
       "    <tr>\n",
       "      <th>count</th>\n",
       "      <td>1000.000000</td>\n",
       "      <td>1000.000000</td>\n",
       "      <td>1000.000000</td>\n",
       "      <td>1000.000000</td>\n",
       "    </tr>\n",
       "    <tr>\n",
       "      <th>mean</th>\n",
       "      <td>499.500000</td>\n",
       "      <td>111935.000000</td>\n",
       "      <td>55.209000</td>\n",
       "      <td>1.295000</td>\n",
       "    </tr>\n",
       "    <tr>\n",
       "      <th>std</th>\n",
       "      <td>288.819436</td>\n",
       "      <td>54580.049073</td>\n",
       "      <td>11.925164</td>\n",
       "      <td>0.885867</td>\n",
       "    </tr>\n",
       "    <tr>\n",
       "      <th>min</th>\n",
       "      <td>0.000000</td>\n",
       "      <td>0.000000</td>\n",
       "      <td>18.000000</td>\n",
       "      <td>0.000000</td>\n",
       "    </tr>\n",
       "    <tr>\n",
       "      <th>25%</th>\n",
       "      <td>249.750000</td>\n",
       "      <td>68000.000000</td>\n",
       "      <td>50.000000</td>\n",
       "      <td>1.000000</td>\n",
       "    </tr>\n",
       "    <tr>\n",
       "      <th>50%</th>\n",
       "      <td>499.500000</td>\n",
       "      <td>99000.000000</td>\n",
       "      <td>58.000000</td>\n",
       "      <td>1.000000</td>\n",
       "    </tr>\n",
       "    <tr>\n",
       "      <th>75%</th>\n",
       "      <td>749.250000</td>\n",
       "      <td>161000.000000</td>\n",
       "      <td>63.000000</td>\n",
       "      <td>2.000000</td>\n",
       "    </tr>\n",
       "    <tr>\n",
       "      <th>max</th>\n",
       "      <td>999.000000</td>\n",
       "      <td>250000.000000</td>\n",
       "      <td>82.000000</td>\n",
       "      <td>4.000000</td>\n",
       "    </tr>\n",
       "  </tbody>\n",
       "</table>\n",
       "</div>"
      ],
      "text/plain": [
       "        Unnamed: 0         salary          age  family_members\n",
       "count  1000.000000    1000.000000  1000.000000     1000.000000\n",
       "mean    499.500000  111935.000000    55.209000        1.295000\n",
       "std     288.819436   54580.049073    11.925164        0.885867\n",
       "min       0.000000       0.000000    18.000000        0.000000\n",
       "25%     249.750000   68000.000000    50.000000        1.000000\n",
       "50%     499.500000   99000.000000    58.000000        1.000000\n",
       "75%     749.250000  161000.000000    63.000000        2.000000\n",
       "max     999.000000  250000.000000    82.000000        4.000000"
      ]
     },
     "execution_count": 29,
     "metadata": {},
     "output_type": "execute_result"
    }
   ],
   "source": [
    "trips.describe()"
   ]
  },
  {
   "cell_type": "code",
   "execution_count": 30,
   "metadata": {},
   "outputs": [
    {
     "data": {
      "text/plain": [
       "<matplotlib.axes._subplots.AxesSubplot at 0x1f752550608>"
      ]
     },
     "execution_count": 30,
     "metadata": {},
     "output_type": "execute_result"
    },
    {
     "data": {
      "image/png": "[encoded data removed]",
      "text/plain": [
       "<Figure size 432x288 with 1 Axes>"
      ]
     },
     "metadata": {
      "needs_background": "light"
     },
     "output_type": "display_data"
    }
   ],
   "source": [
    "trips.salary.hist()"
   ]
  },
  {
   "cell_type": "code",
   "execution_count": 31,
   "metadata": {},
   "outputs": [
    {
     "data": {
      "text/plain": [
       "<matplotlib.axes._subplots.AxesSubplot at 0x1f7521e8388>"
      ]
     },
     "execution_count": 31,
     "metadata": {},
     "output_type": "execute_result"
    },
    {
     "data": {
      "image/png": "[encoded data removed]",
      "text/plain": [
       "<Figure size 432x288 with 1 Axes>"
      ]
     },
     "metadata": {
      "needs_background": "light"
     },
     "output_type": "display_data"
    }
   ],
   "source": [
    "trips.age.hist()"
   ]
  },
  {
   "cell_type": "code",
   "execution_count": 32,
   "metadata": {},
   "outputs": [
    {
     "data": {
      "text/plain": [
       "<matplotlib.axes._subplots.AxesSubplot at 0x1f7525c5288>"
      ]
     },
     "execution_count": 32,
     "metadata": {},
     "output_type": "execute_result"
    },
    {
     "data": {
      "image/png": "[encoded data removed]",
      "text/plain": [
       "<Figure size 432x288 with 1 Axes>"
      ]
     },
     "metadata": {
      "needs_background": "light"
     },
     "output_type": "display_data"
    }
   ],
   "source": [
    "trips.city.value_counts().plot(kind='bar')"
   ]
  },
  {
   "cell_type": "code",
   "execution_count": 33,
   "metadata": {},
   "outputs": [
    {
     "data": {
      "text/plain": [
       "<matplotlib.axes._subplots.AxesSubplot at 0x1f7521ed308>"
      ]
     },
     "execution_count": 33,
     "metadata": {},
     "output_type": "execute_result"
    },
    {
     "data": {
      "image/png": "[encoded data removed]",
      "text/plain": [
       "<Figure size 432x288 with 1 Axes>"
      ]
     },
     "metadata": {
      "needs_background": "light"
     },
     "output_type": "display_data"
    }
   ],
   "source": [
    "trips.vacation_preference.value_counts().plot(kind='bar')"
   ]
  },
  {
   "cell_type": "code",
   "execution_count": 34,
   "metadata": {},
   "outputs": [
    {
     "data": {
      "text/plain": [
       "<matplotlib.axes._subplots.AxesSubplot at 0x1f7526a6388>"
      ]
     },
     "execution_count": 34,
     "metadata": {},
     "output_type": "execute_result"
    },
    {
     "data": {
      "image/png": "[encoded data removed]",
      "text/plain": [
       "<Figure size 432x288 with 1 Axes>"
      ]
     },
     "metadata": {
      "needs_background": "light"
     },
     "output_type": "display_data"
    }
   ],
   "source": [
    "trips.transport_preference.value_counts().plot(kind='bar')"
   ]
  },
  {
   "cell_type": "code",
   "execution_count": 35,
   "metadata": {},
   "outputs": [
    {
     "data": {
      "text/html": [
       "<div>\n",
       "<style scoped>\n",
       "    .dataframe tbody tr th:only-of-type {\n",
       "        vertical-align: middle;\n",
       "    }\n",
       "\n",
       "    .dataframe tbody tr th {\n",
       "        vertical-align: top;\n",
       "    }\n",
       "\n",
       "    .dataframe thead th {\n",
       "        text-align: right;\n",
       "    }\n",
       "</style>\n",
       "<table border=\"1\" class=\"dataframe\">\n",
       "  <thead>\n",
       "    <tr style=\"text-align: right;\">\n",
       "      <th></th>\n",
       "      <th>Unnamed: 0</th>\n",
       "      <th>salary</th>\n",
       "      <th>city</th>\n",
       "      <th>age</th>\n",
       "      <th>vacation_preference</th>\n",
       "      <th>transport_preference</th>\n",
       "      <th>family_members</th>\n",
       "      <th>target</th>\n",
       "    </tr>\n",
       "  </thead>\n",
       "  <tbody>\n",
       "    <tr>\n",
       "      <th>0</th>\n",
       "      <td>0</td>\n",
       "      <td>196000</td>\n",
       "      <td>Краснодар</td>\n",
       "      <td>25</td>\n",
       "      <td>Шоппинг</td>\n",
       "      <td>Автомобиль</td>\n",
       "      <td>1</td>\n",
       "      <td>New York</td>\n",
       "    </tr>\n",
       "    <tr>\n",
       "      <th>1</th>\n",
       "      <td>1</td>\n",
       "      <td>152000</td>\n",
       "      <td>Екатеринбург</td>\n",
       "      <td>60</td>\n",
       "      <td>Архитектура</td>\n",
       "      <td>Самолет</td>\n",
       "      <td>1</td>\n",
       "      <td>London</td>\n",
       "    </tr>\n",
       "    <tr>\n",
       "      <th>2</th>\n",
       "      <td>2</td>\n",
       "      <td>83000</td>\n",
       "      <td>Томск</td>\n",
       "      <td>49</td>\n",
       "      <td>Архитектура</td>\n",
       "      <td>Автомобиль</td>\n",
       "      <td>2</td>\n",
       "      <td>Sydney</td>\n",
       "    </tr>\n",
       "    <tr>\n",
       "      <th>3</th>\n",
       "      <td>3</td>\n",
       "      <td>161000</td>\n",
       "      <td>Краснодар</td>\n",
       "      <td>41</td>\n",
       "      <td>Шоппинг</td>\n",
       "      <td>Автомобиль</td>\n",
       "      <td>0</td>\n",
       "      <td>New York</td>\n",
       "    </tr>\n",
       "    <tr>\n",
       "      <th>4</th>\n",
       "      <td>4</td>\n",
       "      <td>146000</td>\n",
       "      <td>Краснодар</td>\n",
       "      <td>58</td>\n",
       "      <td>Архитектура</td>\n",
       "      <td>Самолет</td>\n",
       "      <td>1</td>\n",
       "      <td>Sydney</td>\n",
       "    </tr>\n",
       "  </tbody>\n",
       "</table>\n",
       "</div>"
      ],
      "text/plain": [
       "   Unnamed: 0  salary          city  age vacation_preference  \\\n",
       "0           0  196000     Краснодар   25             Шоппинг   \n",
       "1           1  152000  Екатеринбург   60         Архитектура   \n",
       "2           2   83000         Томск   49         Архитектура   \n",
       "3           3  161000     Краснодар   41             Шоппинг   \n",
       "4           4  146000     Краснодар   58         Архитектура   \n",
       "\n",
       "  transport_preference  family_members    target  \n",
       "0           Автомобиль               1  New York  \n",
       "1              Самолет               1    London  \n",
       "2           Автомобиль               2    Sydney  \n",
       "3           Автомобиль               0  New York  \n",
       "4              Самолет               1    Sydney  "
      ]
     },
     "execution_count": 35,
     "metadata": {},
     "output_type": "execute_result"
    }
   ],
   "source": [
    "trips.head()"
   ]
  },
  {
   "cell_type": "code",
   "execution_count": 36,
   "metadata": {},
   "outputs": [],
   "source": [
    "trips_updated = pandas.get_dummies(trips, columns=['city', 'vacation_preference', 'transport_preference'])"
   ]
  },
  {
   "cell_type": "code",
   "execution_count": 37,
   "metadata": {},
   "outputs": [],
   "source": [
    "input_data = trips_updated.drop('target', axis = 1) #входные данные\n",
    "target = trips_updated.target #что мы предсказываем"
   ]
  },
  {
   "cell_type": "code",
   "execution_count": 38,
   "metadata": {},
   "outputs": [],
   "source": [
    "from sklearn.ensemble import RandomForestClassifier"
   ]
  },
  {
   "cell_type": "code",
   "execution_count": 39,
   "metadata": {},
   "outputs": [],
   "source": [
    "model = RandomForestClassifier()"
   ]
  },
  {
   "cell_type": "code",
   "execution_count": 40,
   "metadata": {},
   "outputs": [
    {
     "data": {
      "text/plain": [
       "RandomForestClassifier(bootstrap=True, ccp_alpha=0.0, class_weight=None,\n",
       "                       criterion='gini', max_depth=None, max_features='auto',\n",
       "                       max_leaf_nodes=None, max_samples=None,\n",
       "                       min_impurity_decrease=0.0, min_impurity_split=None,\n",
       "                       min_samples_leaf=1, min_samples_split=2,\n",
       "                       min_weight_fraction_leaf=0.0, n_estimators=100,\n",
       "                       n_jobs=None, oob_score=False, random_state=None,\n",
       "                       verbose=0, warm_start=False)"
      ]
     },
     "execution_count": 40,
     "metadata": {},
     "output_type": "execute_result"
    }
   ],
   "source": [
    "model.fit(input_data, target)"
   ]
  },
  {
   "cell_type": "code",
   "execution_count": 41,
   "metadata": {},
   "outputs": [
    {
     "data": {
      "text/plain": [
       "array([8.98901955e-02, 1.99298689e-01, 1.68984693e-01, 1.55689122e-01,\n",
       "       1.50305530e-02, 1.35180351e-02, 2.11285515e-02, 2.99891927e-03,\n",
       "       6.14682632e-05, 5.84202753e-03, 1.19163173e-02, 1.09339176e-03,\n",
       "       2.01905580e-02, 1.15638124e-02, 4.09569604e-04, 3.02899500e-02,\n",
       "       1.80802204e-04, 3.43394918e-02, 6.75055947e-02, 4.19213160e-02,\n",
       "       8.97558747e-05, 1.93089002e-02, 2.82833808e-02, 6.04649056e-02])"
      ]
     },
     "execution_count": 41,
     "metadata": {},
     "output_type": "execute_result"
    }
   ],
   "source": [
    "model.feature_importances_"
   ]
  },
  {
   "cell_type": "code",
   "execution_count": 43,
   "metadata": {},
   "outputs": [
    {
     "data": {
      "text/plain": [
       "{'Unnamed: 0': 0,\n",
       " 'salary': 0,\n",
       " 'age': 0,\n",
       " 'family_members': 0,\n",
       " 'city_Екатеринбург': 0,\n",
       " 'city_Киев': 0,\n",
       " 'city_Краснодар': 0,\n",
       " 'city_Минск': 0,\n",
       " 'city_Москва': 0,\n",
       " 'city_Новосибирск': 0,\n",
       " 'city_Омск': 0,\n",
       " 'city_Петербург': 0,\n",
       " 'city_Томск': 0,\n",
       " 'city_Хабаровск': 0,\n",
       " 'city_Ярославль': 0,\n",
       " 'vacation_preference_Архитектура': 0,\n",
       " 'vacation_preference_Ночные клубы': 0,\n",
       " 'vacation_preference_Пляжный отдых': 0,\n",
       " 'vacation_preference_Шоппинг': 0,\n",
       " 'transport_preference_Автомобиль': 0,\n",
       " 'transport_preference_Космический корабль': 0,\n",
       " 'transport_preference_Морской транспорт': 0,\n",
       " 'transport_preference_Поезд': 0,\n",
       " 'transport_preference_Самолет': 0}"
      ]
     },
     "execution_count": 43,
     "metadata": {},
     "output_type": "execute_result"
    }
   ],
   "source": [
    "{col: 0 for col in input_data.columns}"
   ]
  },
  {
   "cell_type": "code",
   "execution_count": 50,
   "metadata": {},
   "outputs": [],
   "source": [
    "my_example = {'Unnamed: 0': 0,\n",
    " 'salary': 70000,\n",
    " 'age': 39,\n",
    " 'family_members': 2,\n",
    " 'city_Екатеринбург': 0,\n",
    " 'city_Киев': 0,\n",
    " 'city_Краснодар': 1,\n",
    " 'city_Минск': 0,\n",
    " 'city_Москва': 0,\n",
    " 'city_Новосибирск': 0,\n",
    " 'city_Омск': 0,\n",
    " 'city_Петербург': 0,\n",
    " 'city_Томск': 0,\n",
    " 'city_Хабаровск': 0,\n",
    " 'city_Ярославль': 0,\n",
    " 'vacation_preference_Архитектура': 1,\n",
    " 'vacation_preference_Ночные клубы': 0,\n",
    " 'vacation_preference_Пляжный отдых': 0,\n",
    " 'vacation_preference_Шоппинг': 0,\n",
    " 'transport_preference_Автомобиль': 0,\n",
    " 'transport_preference_Космический корабль': 0,\n",
    " 'transport_preference_Морской транспорт': 0,\n",
    " 'transport_preference_Поезд': 0,\n",
    " 'transport_preference_Самолет': 1}"
   ]
  },
  {
   "cell_type": "code",
   "execution_count": 51,
   "metadata": {},
   "outputs": [],
   "source": [
    "my_example_dataFrame = pandas.DataFrame(data = [my_example])"
   ]
  },
  {
   "cell_type": "code",
   "execution_count": 52,
   "metadata": {},
   "outputs": [
    {
     "data": {
      "text/plain": [
       "array(['Paris'], dtype=object)"
      ]
     },
     "execution_count": 52,
     "metadata": {},
     "output_type": "execute_result"
    }
   ],
   "source": [
    "model.predict(my_example_dataFrame)"
   ]
  }
 ],
 "metadata": {
  "kernelspec": {
   "display_name": "Python 3",
   "language": "python",
   "name": "python3"
  },
  "language_info": {
   "codemirror_mode": {
    "name": "ipython",
    "version": 3
   },
   "file_extension": ".py",
   "mimetype": "text/x-python",
   "name": "python",
   "nbconvert_exporter": "python",
   "pygments_lexer": "ipython3",
   "version": "3.7.6"
  }
 },
 "nbformat": 4,
 "nbformat_minor": 4
}
